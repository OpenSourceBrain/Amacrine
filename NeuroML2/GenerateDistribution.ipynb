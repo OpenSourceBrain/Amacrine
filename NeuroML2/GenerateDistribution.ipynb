{
 "cells": [
  {
   "cell_type": "markdown",
   "metadata": {
    "deletable": true,
    "editable": true
   },
   "source": [
    "## Generating inputs to amacrine cell"
   ]
  },
  {
   "cell_type": "code",
   "execution_count": 1,
   "metadata": {
    "collapsed": false,
    "deletable": true,
    "editable": true
   },
   "outputs": [
    {
     "name": "stdout",
     "output_type": "stream",
     "text": [
      "pyNeuroML >>> Successfully ran the following command using pyNeuroML v0.3.12: \n",
      "pyNeuroML >>>     java -Xmx400M  -jar  \"/usr/local/lib/python2.7/dist-packages/pyNeuroML-0.3.12-py2.7.egg/pyneuroml/lib/jNeuroML-0.8.3-jar-with-dependencies.jar\"  \"AmacrineChen.cell.nml\" -png\n",
      "pyNeuroML >>> Output:\n",
      "pyNeuroML >>> \n",
      "pyNeuroML >>>  jNeuroML v0.8.3\n",
      "pyNeuroML >>> Writing to: /home/padraig/git/Amacrine/NeuroML2/AmacrineChen.cell.png\n",
      "pyNeuroML >>> \n"
     ]
    },
    {
     "data": {
      "image/png": "[encoded data removed]",
      "text/plain": [
       "<IPython.core.display.Image object>"
      ]
     },
     "execution_count": 1,
     "metadata": {
      "image/png": {
       "width": 500
      }
     },
     "output_type": "execute_result"
    }
   ],
   "source": [
    "cell_file = 'AmacrineChen.cell.nml'\n",
    "\n",
    "from pyneuroml import pynml\n",
    "from IPython.display import Image\n",
    "\n",
    "pynml.run_jneuroml(\"\", cell_file, '-png')\n",
    "Image(filename=cell_file.replace('.nml','.png'),width=500)"
   ]
  },
  {
   "cell_type": "code",
   "execution_count": 2,
   "metadata": {
    "collapsed": false,
    "deletable": true,
    "editable": true
   },
   "outputs": [
    {
     "name": "stdout",
     "output_type": "stream",
     "text": [
      "Loaded morphology file from: AmacrineChen.cell.nml\n",
      "*******************************************************\n",
      "* Cell: AmacrineChen\n",
      "* Notes: Cell morphology generated by neuroConstruct from file: WT1-10-AC.CNG.swc\n",
      "SWC to SWC conversion from L-Measure. Sridevi Polavaram: spolavar@gmu.edu\n",
      "Original fileName:C:\\NMO_dev\\data_proc\\Chen_YP_Final\\Source_Temp1//WT1-10-AC.CNG.swc\n",
      "SWC to SWC conversion from L-Measure. Sridevi Polavaram: spolavar@gmu.edu\n",
      "Original fileName:C:\\NMO_dev\\data_proc\\Auto swc//WT1-10-AC.asc.swc.CNG.swc\n",
      "Original file C:\\NMO_dev\\data_proc\\Temp_LMeasure\\WT1-10-AC.asc.swc edited using StdSwc version 1.31 on 11/3/17.\n",
      "Irregularities and fixes documented in C:\\NMO_dev\\data_proc\\Temp_LMeasure\\WT1-10-AC.asc.swc.std.  See StdSwc1.31.doc for more information.\n",
      "Neurolucida to SWC conversion from L-Measure. Sridevi Polavaram: spolavar@gmu.edu\n",
      "Original fileName:C:\\NMO_dev\\data_proc\\Source_Temp1//WT1-10-AC.asc\n",
      "he original file has a single soma contour that is averaged into 3 soma points\n",
      "* Segments: 2105\n",
      "* SegmentGroups: 193\n",
      "*******************************************************\n",
      "  Segment group: Soma has 1 segments ([<Segment|0|Comp_1>]; NEURON section: True; nseg = 1)\n",
      "  Segment group: Sec_Comp_4 has 6 segments ([2,...,7]; NEURON section: True; nseg = 1)\n",
      "  Segment group: Sec_Comp_10 has 8 segments ([8,...,15]; NEURON section: True; nseg = 1)\n",
      "  Segment group: Sec_Comp_18 has 13 segments ([16,...,28]; NEURON section: True; nseg = 1)\n",
      "  Segment group: Sec_Comp_31 has 44 segments ([29,...,72]; NEURON section: True; nseg = 1)\n",
      "  Segment group: Sec_Comp_75 has 8 segments ([73,...,80]; NEURON section: True; nseg = 1)\n",
      "  Segment group: Sec_Comp_83 has 12 segments ([81,...,92]; NEURON section: True; nseg = 1)\n",
      "  Segment group: Sec_Comp_95 has 11 segments ([93,...,103]; NEURON section: True; nseg = 1)\n",
      "  Segment group: Sec_Comp_106 has 8 segments ([104,...,111]; NEURON section: True; nseg = 1)\n",
      "  Segment group: Sec_Comp_114 has 3 segments ([112,...,114]; NEURON section: True; nseg = 1)\n",
      "  Segment group: Sec_Comp_117 has 9 segments ([115,...,123]; NEURON section: True; nseg = 1)\n",
      "  Segment group: Sec_Comp_126 has 9 segments ([124,...,132]; NEURON section: True; nseg = 1)\n",
      "  Segment group: Sec_Comp_135 has 19 segments ([133,...,151]; NEURON section: True; nseg = 1)\n",
      "  Segment group: Sec_Comp_154 has 8 segments ([152,...,159]; NEURON section: True; nseg = 1)\n",
      "  Segment group: Sec_Comp_162 has 4 segments ([160,...,163]; NEURON section: True; nseg = 1)\n",
      "  Segment group: Sec_Comp_166 has 5 segments ([164,...,168]; NEURON section: True; nseg = 1)\n",
      "  Segment group: Sec_Comp_171 has 1 segments ([<Segment|169|Comp_171>]; NEURON section: True; nseg = 1)\n",
      "  Segment group: Sec_Comp_172 has 1 segments ([<Segment|170|Comp_172>]; NEURON section: True; nseg = 1)\n",
      "  Segment group: Sec_Comp_173 has 13 segments ([171,...,183]; NEURON section: True; nseg = 1)\n",
      "  Segment group: Sec_Comp_186 has 40 segments ([184,...,223]; NEURON section: True; nseg = 1)\n",
      "  Segment group: Sec_Comp_226 has 6 segments ([224,...,229]; NEURON section: True; nseg = 1)\n",
      "  Segment group: Sec_Comp_232 has 6 segments ([230,...,235]; NEURON section: True; nseg = 1)\n",
      "  Segment group: Sec_Comp_238 has 1 segments ([<Segment|236|Comp_238>]; NEURON section: True; nseg = 1)\n",
      "  Segment group: Sec_Comp_239 has 10 segments ([237,...,246]; NEURON section: True; nseg = 1)\n",
      "  Segment group: Sec_Comp_249 has 1 segments ([<Segment|247|Comp_249>]; NEURON section: True; nseg = 1)\n",
      "  Segment group: Sec_Comp_250 has 10 segments ([248,...,257]; NEURON section: True; nseg = 1)\n",
      "  Segment group: Sec_Comp_260 has 7 segments ([258,...,264]; NEURON section: True; nseg = 1)\n",
      "  Segment group: Sec_Comp_267 has 12 segments ([265,...,276]; NEURON section: True; nseg = 1)\n",
      "  Segment group: Sec_Comp_279 has 4 segments ([277,...,280]; NEURON section: True; nseg = 1)\n",
      "  Segment group: Sec_Comp_283 has 5 segments ([281,...,285]; NEURON section: True; nseg = 1)\n",
      "  Segment group: Sec_Comp_288 has 1 segments ([<Segment|286|Comp_288>]; NEURON section: True; nseg = 1)\n",
      "  Segment group: Sec_Comp_289 has 5 segments ([287,...,291]; NEURON section: True; nseg = 1)\n",
      "  Segment group: Sec_Comp_294 has 70 segments ([292,...,361]; NEURON section: True; nseg = 1)\n",
      "  Segment group: Sec_Comp_364 has 9 segments ([362,...,370]; NEURON section: True; nseg = 1)\n",
      "  Segment group: Sec_Comp_373 has 8 segments ([371,...,378]; NEURON section: True; nseg = 1)\n",
      "  Segment group: Sec_Comp_381 has 4 segments ([379,...,382]; NEURON section: True; nseg = 1)\n",
      "  Segment group: Sec_Comp_385 has 5 segments ([383,...,387]; NEURON section: True; nseg = 1)\n",
      "  Segment group: Sec_Comp_390 has 12 segments ([388,...,399]; NEURON section: True; nseg = 1)\n",
      "  Segment group: Sec_Comp_402 has 9 segments ([400,...,408]; NEURON section: True; nseg = 1)\n",
      "  Segment group: Sec_Comp_411 has 3 segments ([409,...,411]; NEURON section: True; nseg = 1)\n",
      "  Segment group: Sec_Comp_414 has 14 segments ([412,...,425]; NEURON section: True; nseg = 1)\n",
      "  Segment group: Sec_Comp_428 has 17 segments ([426,...,442]; NEURON section: True; nseg = 1)\n",
      "  Segment group: Sec_Comp_445 has 13 segments ([443,...,455]; NEURON section: True; nseg = 1)\n",
      "  Segment group: Sec_Comp_458 has 3 segments ([456,...,458]; NEURON section: True; nseg = 1)\n",
      "  Segment group: Sec_Comp_461 has 7 segments ([459,...,465]; NEURON section: True; nseg = 1)\n",
      "  Segment group: Sec_Comp_468 has 1 segments ([<Segment|466|Comp_468>]; NEURON section: True; nseg = 1)\n",
      "  Segment group: Sec_Comp_469 has 8 segments ([467,...,474]; NEURON section: True; nseg = 1)\n",
      "  Segment group: Sec_Comp_477 has 1 segments ([<Segment|475|Comp_477>]; NEURON section: True; nseg = 1)\n",
      "  Segment group: Sec_Comp_478 has 12 segments ([476,...,487]; NEURON section: True; nseg = 1)\n",
      "  Segment group: Sec_Comp_490 has 2 segments ([<Segment|488|Comp_490>, <Segment|489|Comp_491>]; NEURON section: True; nseg = 1)\n",
      "  Segment group: Sec_Comp_492 has 26 segments ([490,...,515]; NEURON section: True; nseg = 1)\n",
      "  Segment group: Sec_Comp_518 has 12 segments ([516,...,527]; NEURON section: True; nseg = 1)\n",
      "  Segment group: Sec_Comp_530 has 3 segments ([528,...,530]; NEURON section: True; nseg = 1)\n",
      "  Segment group: Sec_Comp_533 has 6 segments ([531,...,536]; NEURON section: True; nseg = 1)\n",
      "  Segment group: Sec_Comp_539 has 17 segments ([537,...,553]; NEURON section: True; nseg = 1)\n",
      "  Segment group: Sec_Comp_556 has 29 segments ([554,...,582]; NEURON section: True; nseg = 1)\n",
      "  Segment group: Sec_Comp_585 has 17 segments ([583,...,599]; NEURON section: True; nseg = 1)\n",
      "  Segment group: Sec_Comp_602 has 7 segments ([600,...,606]; NEURON section: True; nseg = 1)\n",
      "  Segment group: Sec_Comp_609 has 3 segments ([607,...,609]; NEURON section: True; nseg = 1)\n",
      "  Segment group: Sec_Comp_612 has 20 segments ([610,...,629]; NEURON section: True; nseg = 1)\n",
      "  Segment group: Sec_Comp_632 has 11 segments ([630,...,640]; NEURON section: True; nseg = 1)\n",
      "  Segment group: Sec_Comp_643 has 11 segments ([641,...,651]; NEURON section: True; nseg = 1)\n",
      "  Segment group: Sec_Comp_654 has 11 segments ([652,...,662]; NEURON section: True; nseg = 1)\n",
      "  Segment group: Sec_Comp_665 has 2 segments ([<Segment|663|Comp_665>, <Segment|664|Comp_666>]; NEURON section: True; nseg = 1)\n",
      "  Segment group: Sec_Comp_667 has 3 segments ([665,...,667]; NEURON section: True; nseg = 1)\n",
      "  Segment group: Sec_Comp_670 has 8 segments ([668,...,675]; NEURON section: True; nseg = 1)\n",
      "  Segment group: Sec_Comp_678 has 1 segments ([<Segment|676|Comp_678>]; NEURON section: True; nseg = 1)\n",
      "  Segment group: Sec_Comp_679 has 4 segments ([677,...,680]; NEURON section: True; nseg = 1)\n",
      "  Segment group: Sec_Comp_683 has 15 segments ([681,...,695]; NEURON section: True; nseg = 1)\n",
      "  Segment group: Sec_Comp_698 has 11 segments ([696,...,706]; NEURON section: True; nseg = 1)\n",
      "  Segment group: Sec_Comp_709 has 6 segments ([707,...,712]; NEURON section: True; nseg = 1)\n",
      "  Segment group: Sec_Comp_715 has 12 segments ([713,...,724]; NEURON section: True; nseg = 1)\n",
      "  Segment group: Sec_Comp_727 has 24 segments ([725,...,748]; NEURON section: True; nseg = 1)\n",
      "  Segment group: Sec_Comp_751 has 3 segments ([749,...,751]; NEURON section: True; nseg = 1)\n",
      "  Segment group: Sec_Comp_754 has 6 segments ([752,...,757]; NEURON section: True; nseg = 1)\n",
      "  Segment group: Sec_Comp_760 has 29 segments ([758,...,786]; NEURON section: True; nseg = 1)\n",
      "  Segment group: Sec_Comp_789 has 20 segments ([787,...,806]; NEURON section: True; nseg = 1)\n",
      "  Segment group: Sec_Comp_809 has 7 segments ([807,...,813]; NEURON section: True; nseg = 1)\n",
      "  Segment group: Sec_Comp_816 has 11 segments ([814,...,824]; NEURON section: True; nseg = 1)\n",
      "  Segment group: Sec_Comp_827 has 8 segments ([825,...,832]; NEURON section: True; nseg = 1)\n",
      "  Segment group: Sec_Comp_835 has 5 segments ([833,...,837]; NEURON section: True; nseg = 1)\n",
      "  Segment group: Sec_Comp_840 has 11 segments ([838,...,848]; NEURON section: True; nseg = 1)\n",
      "  Segment group: Sec_Comp_851 has 1 segments ([<Segment|849|Comp_851>]; NEURON section: True; nseg = 1)\n",
      "  Segment group: Sec_Comp_852 has 13 segments ([850,...,862]; NEURON section: True; nseg = 1)\n",
      "  Segment group: Sec_Comp_865 has 10 segments ([863,...,872]; NEURON section: True; nseg = 1)\n",
      "  Segment group: Sec_Comp_875 has 17 segments ([873,...,889]; NEURON section: True; nseg = 1)\n",
      "  Segment group: Sec_Comp_892 has 23 segments ([890,...,912]; NEURON section: True; nseg = 1)\n",
      "  Segment group: Sec_Comp_915 has 10 segments ([913,...,922]; NEURON section: True; nseg = 1)\n",
      "  Segment group: Sec_Comp_925 has 6 segments ([923,...,928]; NEURON section: True; nseg = 1)\n",
      "  Segment group: Sec_Comp_931 has 3 segments ([929,...,931]; NEURON section: True; nseg = 1)\n",
      "  Segment group: Sec_Comp_934 has 14 segments ([932,...,945]; NEURON section: True; nseg = 1)\n",
      "  Segment group: Sec_Comp_948 has 5 segments ([946,...,950]; NEURON section: True; nseg = 1)\n",
      "  Segment group: Sec_Comp_953 has 11 segments ([951,...,961]; NEURON section: True; nseg = 1)\n",
      "  Segment group: Sec_Comp_964 has 16 segments ([962,...,977]; NEURON section: True; nseg = 1)\n",
      "  Segment group: Sec_Comp_980 has 16 segments ([978,...,993]; NEURON section: True; nseg = 1)\n",
      "  Segment group: Sec_Comp_996 has 3 segments ([994,...,996]; NEURON section: True; nseg = 1)\n",
      "  Segment group: Sec_Comp_999 has 4 segments ([997,...,1000]; NEURON section: True; nseg = 1)\n",
      "  Segment group: Sec_Comp_1003 has 7 segments ([1001,...,1007]; NEURON section: True; nseg = 1)\n",
      "  Segment group: Sec_Comp_1010 has 34 segments ([1008,...,1041]; NEURON section: True; nseg = 1)\n",
      "  Segment group: Sec_Comp_1044 has 13 segments ([1042,...,1054]; NEURON section: True; nseg = 1)\n",
      "  Segment group: Sec_Comp_1057 has 18 segments ([1055,...,1072]; NEURON section: True; nseg = 1)\n",
      "  Segment group: Sec_Comp_1075 has 7 segments ([1073,...,1079]; NEURON section: True; nseg = 1)\n",
      "  Segment group: Sec_Comp_1082 has 4 segments ([1080,...,1083]; NEURON section: True; nseg = 1)\n",
      "  Segment group: Sec_Comp_1086 has 11 segments ([1084,...,1094]; NEURON section: True; nseg = 1)\n",
      "  Segment group: Sec_Comp_1097 has 3 segments ([1095,...,1097]; NEURON section: True; nseg = 1)\n",
      "  Segment group: Sec_Comp_1100 has 2 segments ([<Segment|1098|Comp_1100>, <Segment|1099|Comp_1101>]; NEURON section: True; nseg = 1)\n",
      "  Segment group: Sec_Comp_1102 has 20 segments ([1100,...,1119]; NEURON section: True; nseg = 1)\n",
      "  Segment group: Sec_Comp_1122 has 3 segments ([1120,...,1122]; NEURON section: True; nseg = 1)\n",
      "  Segment group: Sec_Comp_1125 has 25 segments ([1123,...,1147]; NEURON section: True; nseg = 1)\n",
      "  Segment group: Sec_Comp_1150 has 6 segments ([1148,...,1153]; NEURON section: True; nseg = 1)\n",
      "  Segment group: Sec_Comp_1156 has 5 segments ([1154,...,1158]; NEURON section: True; nseg = 1)\n",
      "  Segment group: Sec_Comp_1161 has 26 segments ([1159,...,1184]; NEURON section: True; nseg = 1)\n",
      "  Segment group: Sec_Comp_1187 has 6 segments ([1185,...,1190]; NEURON section: True; nseg = 1)\n",
      "  Segment group: Sec_Comp_1193 has 1 segments ([<Segment|1191|Comp_1193>]; NEURON section: True; nseg = 1)\n",
      "  Segment group: Sec_Comp_1194 has 25 segments ([1192,...,1216]; NEURON section: True; nseg = 1)\n",
      "  Segment group: Sec_Comp_1219 has 6 segments ([1217,...,1222]; NEURON section: True; nseg = 1)\n",
      "  Segment group: Sec_Comp_1225 has 5 segments ([1223,...,1227]; NEURON section: True; nseg = 1)\n",
      "  Segment group: Sec_Comp_1230 has 8 segments ([1228,...,1235]; NEURON section: True; nseg = 1)\n",
      "  Segment group: Sec_Comp_1238 has 5 segments ([1236,...,1240]; NEURON section: True; nseg = 1)\n",
      "  Segment group: Sec_Comp_1243 has 6 segments ([1241,...,1246]; NEURON section: True; nseg = 1)\n",
      "  Segment group: Sec_Comp_1249 has 3 segments ([1247,...,1249]; NEURON section: True; nseg = 1)\n",
      "  Segment group: Sec_Comp_1252 has 1 segments ([<Segment|1250|Comp_1252>]; NEURON section: True; nseg = 1)\n",
      "  Segment group: Sec_Comp_1253 has 9 segments ([1251,...,1259]; NEURON section: True; nseg = 1)\n",
      "  Segment group: Sec_Comp_1262 has 1 segments ([<Segment|1260|Comp_1262>]; NEURON section: True; nseg = 1)\n",
      "  Segment group: Sec_Comp_1263 has 20 segments ([1261,...,1280]; NEURON section: True; nseg = 1)\n",
      "  Segment group: Sec_Comp_1283 has 8 segments ([1281,...,1288]; NEURON section: True; nseg = 1)\n",
      "  Segment group: Sec_Comp_1291 has 31 segments ([1289,...,1319]; NEURON section: True; nseg = 1)\n",
      "  Segment group: Sec_Comp_1322 has 7 segments ([1320,...,1326]; NEURON section: True; nseg = 1)\n",
      "  Segment group: Sec_Comp_1329 has 2 segments ([<Segment|1327|Comp_1329>, <Segment|1328|Comp_1330>]; NEURON section: True; nseg = 1)\n",
      "  Segment group: Sec_Comp_1331 has 3 segments ([1329,...,1331]; NEURON section: True; nseg = 1)\n",
      "  Segment group: Sec_Comp_1334 has 19 segments ([1332,...,1350]; NEURON section: True; nseg = 1)\n",
      "  Segment group: Sec_Comp_1353 has 1 segments ([<Segment|1351|Comp_1353>]; NEURON section: True; nseg = 1)\n",
      "  Segment group: Sec_Comp_1354 has 19 segments ([1352,...,1370]; NEURON section: True; nseg = 1)\n",
      "  Segment group: Sec_Comp_1373 has 24 segments ([1371,...,1394]; NEURON section: True; nseg = 1)\n",
      "  Segment group: Sec_Comp_1397 has 1 segments ([<Segment|1395|Comp_1397>]; NEURON section: True; nseg = 1)\n",
      "  Segment group: Sec_Comp_1398 has 22 segments ([1396,...,1417]; NEURON section: True; nseg = 1)\n",
      "  Segment group: Sec_Comp_1420 has 19 segments ([1418,...,1436]; NEURON section: True; nseg = 1)\n",
      "  Segment group: Sec_Comp_1439 has 13 segments ([1437,...,1449]; NEURON section: True; nseg = 1)\n",
      "  Segment group: Sec_Comp_1452 has 11 segments ([1450,...,1460]; NEURON section: True; nseg = 1)\n",
      "  Segment group: Sec_Comp_1463 has 2 segments ([<Segment|1461|Comp_1463>, <Segment|1462|Comp_1464>]; NEURON section: True; nseg = 1)\n",
      "  Segment group: Sec_Comp_1465 has 1 segments ([<Segment|1463|Comp_1465>]; NEURON section: True; nseg = 1)\n",
      "  Segment group: Sec_Comp_1466 has 21 segments ([1464,...,1484]; NEURON section: True; nseg = 1)\n",
      "  Segment group: Sec_Comp_1487 has 7 segments ([1485,...,1491]; NEURON section: True; nseg = 1)\n",
      "  Segment group: Sec_Comp_1494 has 3 segments ([1492,...,1494]; NEURON section: True; nseg = 1)\n",
      "  Segment group: Sec_Comp_1497 has 6 segments ([1495,...,1500]; NEURON section: True; nseg = 1)\n",
      "  Segment group: Sec_Comp_1503 has 6 segments ([1501,...,1506]; NEURON section: True; nseg = 1)\n",
      "  Segment group: Sec_Comp_1509 has 20 segments ([1507,...,1526]; NEURON section: True; nseg = 1)\n",
      "  Segment group: Sec_Comp_1529 has 20 segments ([1527,...,1546]; NEURON section: True; nseg = 1)\n",
      "  Segment group: Sec_Comp_1549 has 8 segments ([1547,...,1554]; NEURON section: True; nseg = 1)\n",
      "  Segment group: Sec_Comp_1557 has 9 segments ([1555,...,1563]; NEURON section: True; nseg = 1)\n",
      "  Segment group: Sec_Comp_1566 has 10 segments ([1564,...,1573]; NEURON section: True; nseg = 1)\n",
      "  Segment group: Sec_Comp_1576 has 8 segments ([1574,...,1581]; NEURON section: True; nseg = 1)\n",
      "  Segment group: Sec_Comp_1584 has 36 segments ([1582,...,1617]; NEURON section: True; nseg = 1)\n",
      "  Segment group: Sec_Comp_1620 has 7 segments ([1618,...,1624]; NEURON section: True; nseg = 1)\n",
      "  Segment group: Sec_Comp_1627 has 1 segments ([<Segment|1625|Comp_1627>]; NEURON section: True; nseg = 1)\n",
      "  Segment group: Sec_Comp_1628 has 5 segments ([1626,...,1630]; NEURON section: True; nseg = 1)\n",
      "  Segment group: Sec_Comp_1633 has 2 segments ([<Segment|1631|Comp_1633>, <Segment|1632|Comp_1634>]; NEURON section: True; nseg = 1)\n",
      "  Segment group: Sec_Comp_1635 has 3 segments ([1633,...,1635]; NEURON section: True; nseg = 1)\n",
      "  Segment group: Sec_Comp_1638 has 3 segments ([1636,...,1638]; NEURON section: True; nseg = 1)\n",
      "  Segment group: Sec_Comp_1641 has 19 segments ([1639,...,1657]; NEURON section: True; nseg = 1)\n",
      "  Segment group: Sec_Comp_1660 has 20 segments ([1658,...,1677]; NEURON section: True; nseg = 1)\n",
      "  Segment group: Sec_Comp_1680 has 17 segments ([1678,...,1694]; NEURON section: True; nseg = 1)\n",
      "  Segment group: Sec_Comp_1697 has 32 segments ([1695,...,1726]; NEURON section: True; nseg = 1)\n",
      "  Segment group: Sec_Comp_1729 has 17 segments ([1727,...,1743]; NEURON section: True; nseg = 1)\n",
      "  Segment group: Sec_Comp_1746 has 6 segments ([1744,...,1749]; NEURON section: True; nseg = 1)\n",
      "  Segment group: Sec_Comp_1752 has 1 segments ([<Segment|1750|Comp_1752>]; NEURON section: True; nseg = 1)\n",
      "  Segment group: Sec_Comp_1753 has 3 segments ([1751,...,1753]; NEURON section: True; nseg = 1)\n",
      "  Segment group: Sec_Comp_1756 has 1 segments ([<Segment|1754|Comp_1756>]; NEURON section: True; nseg = 1)\n",
      "  Segment group: Sec_Comp_1757 has 3 segments ([1755,...,1757]; NEURON section: True; nseg = 1)\n",
      "  Segment group: Sec_Comp_1760 has 35 segments ([1758,...,1792]; NEURON section: True; nseg = 1)\n",
      "  Segment group: Sec_Comp_1795 has 43 segments ([1793,...,1835]; NEURON section: True; nseg = 1)\n",
      "  Segment group: Sec_Comp_1838 has 17 segments ([1836,...,1852]; NEURON section: True; nseg = 1)\n",
      "  Segment group: Sec_Comp_1855 has 16 segments ([1853,...,1868]; NEURON section: True; nseg = 1)\n",
      "  Segment group: Sec_Comp_1871 has 7 segments ([1869,...,1875]; NEURON section: True; nseg = 1)\n",
      "  Segment group: Sec_Comp_1878 has 18 segments ([1876,...,1893]; NEURON section: True; nseg = 1)\n",
      "  Segment group: Sec_Comp_1896 has 11 segments ([1894,...,1904]; NEURON section: True; nseg = 1)\n",
      "  Segment group: Sec_Comp_1907 has 11 segments ([1905,...,1915]; NEURON section: True; nseg = 1)\n",
      "  Segment group: Sec_Comp_1918 has 26 segments ([1916,...,1941]; NEURON section: True; nseg = 1)\n",
      "  Segment group: Sec_Comp_1944 has 5 segments ([1942,...,1946]; NEURON section: True; nseg = 1)\n",
      "  Segment group: Sec_Comp_1949 has 20 segments ([1947,...,1966]; NEURON section: True; nseg = 1)\n",
      "  Segment group: Sec_Comp_1969 has 22 segments ([1967,...,1988]; NEURON section: True; nseg = 1)\n",
      "  Segment group: Sec_Comp_1991 has 26 segments ([1989,...,2014]; NEURON section: True; nseg = 1)\n",
      "  Segment group: Sec_Comp_2017 has 7 segments ([2015,...,2021]; NEURON section: True; nseg = 1)\n",
      "  Segment group: Sec_Comp_2024 has 44 segments ([2022,...,2065]; NEURON section: True; nseg = 1)\n",
      "  Segment group: Sec_Comp_2068 has 16 segments ([2066,...,2081]; NEURON section: True; nseg = 1)\n",
      "  Segment group: Sec_Comp_2084 has 17 segments ([2082,...,2098]; NEURON section: True; nseg = 1)\n",
      "  Segment group: Sec_Comp_2101 has 6 segments ([2099,...,2104]; NEURON section: True; nseg = 1)\n",
      "  Segment group: Sec_Comp_2107 has 1 segments ([<Segment|2105|Comp_2107>]; NEURON section: True; nseg = 1)\n",
      "  Segment group: all has 2105 segments ([0,...,2105]; NEURON section: False)\n",
      "  Segment group: Colour_White has 1 segments ([<Segment|0|Comp_1>]; NEURON section: False)\n",
      "  Segment group: soma_group has 1 segments ([<Segment|0|Comp_1>]; NEURON section: False)\n",
      "  Segment group: dendrite_group has 2104 segments ([2,...,2105]; NEURON section: False)\n",
      "  Segment group: Colour_Green has 2104 segments ([2,...,2105]; NEURON section: False)\n",
      "188 NEURON sections/cables found\n",
      "Segment 0, len to prox point: 0um, len to dist point: 0.0um\n",
      "Segment 500, len to prox point: 88.9637791293um, len to dist point: 90.1741508986um\n",
      "Segment 1000, len to prox point: 47.8574200653um, len to dist point: 48.3806763887um\n",
      "Segment 1500, len to prox point: 115.870016406um, len to dist point: 117.140607166um\n",
      "Segment 2000, len to prox point: 124.833155994um, len to dist point: 126.003155994um\n"
     ]
    },
    {
     "name": "stderr",
     "output_type": "stream",
     "text": [
      "/usr/local/lib/python2.7/dist-packages/simplejson/encoder.py:291: DeprecationWarning: Interpreting naive datetime as local 2018-08-03 11:20:08.648732. Please add timezone info to timestamps.\n",
      "  chunks = self.iterencode(o, _one_shot=True)\n"
     ]
    }
   ],
   "source": [
    "from AnalyseCell import analyse\n",
    "\n",
    "all_segs, length_to_prox, length_to_distal = analyse(cell_file)\n"
   ]
  },
  {
   "cell_type": "code",
   "execution_count": 3,
   "metadata": {
    "collapsed": false,
    "deletable": true,
    "editable": true
   },
   "outputs": [
    {
     "name": "stdout",
     "output_type": "stream",
     "text": [
      "There are 227 segs 0-40\n",
      "There are 464 segs 40-80\n",
      "There are 840 segs 80-120\n"
     ]
    },
    {
     "name": "stderr",
     "output_type": "stream",
     "text": [
      "/usr/local/lib/python2.7/dist-packages/simplejson/encoder.py:291: DeprecationWarning: Interpreting naive datetime as local 2018-08-03 11:20:25.002701. Please add timezone info to timestamps.\n",
      "  chunks = self.iterencode(o, _one_shot=True)\n"
     ]
    }
   ],
   "source": [
    "segs_0_to_40 = []\n",
    "segs_40_to_80 = []\n",
    "segs_80_to_120 = []\n",
    "\n",
    "\n",
    "for i in range(len(all_segs['all'])):\n",
    "    seg = all_segs['all'][i]\n",
    "    dist = length_to_prox['all'][seg.id]\n",
    "    if dist <40:\n",
    "        segs_0_to_40.append(seg)\n",
    "    elif dist <80:\n",
    "        segs_40_to_80.append(seg)\n",
    "    elif dist <120:\n",
    "        segs_80_to_120.append(seg)\n",
    "        \n",
    "        \n",
    "print('There are %i segs 0-40'%len(segs_0_to_40))\n",
    "print('There are %i segs 40-80'%len(segs_40_to_80))\n",
    "print('There are %i segs 80-120'%len(segs_80_to_120))\n",
    "    "
   ]
  },
  {
   "cell_type": "code",
   "execution_count": null,
   "metadata": {
    "collapsed": true,
    "deletable": true,
    "editable": true
   },
   "outputs": [],
   "source": []
  }
 ],
 "metadata": {
  "kernelspec": {
   "display_name": "Python 2",
   "language": "python",
   "name": "python2"
  },
  "language_info": {
   "codemirror_mode": {
    "name": "ipython",
    "version": 2
   },
   "file_extension": ".py",
   "mimetype": "text/x-python",
   "name": "python",
   "nbconvert_exporter": "python",
   "pygments_lexer": "ipython2",
   "version": "2.7.14"
  }
 },
 "nbformat": 4,
 "nbformat_minor": 2
}
